{
  "nbformat": 4,
  "nbformat_minor": 0,
  "metadata": {
    "colab": {
      "name": "Untitled12.ipynb",
      "provenance": []
    },
    "kernelspec": {
      "name": "python3",
      "display_name": "Python 3"
    }
  },
  "cells": [
    {
      "cell_type": "code",
      "metadata": {
        "id": "qhIjcFdHZXel"
      },
      "source": [
        "import numpy as np"
      ],
      "execution_count": null,
      "outputs": []
    },
    {
      "cell_type": "code",
      "metadata": {
        "id": "Jf96kmjMbG8g"
      },
      "source": [
        "import pandas as pd"
      ],
      "execution_count": null,
      "outputs": []
    },
    {
      "cell_type": "code",
      "metadata": {
        "id": "zEYAQk6qbKRf"
      },
      "source": [
        "import matplotlib as mlp\r\n",
        "import matplotlib.pyplot as plt\r\n",
        "%matplotlib inline\r\n",
        "import os"
      ],
      "execution_count": null,
      "outputs": []
    },
    {
      "cell_type": "code",
      "metadata": {
        "id": "6vaa0e4OeXmP"
      },
      "source": [
        "import seaborn as sns"
      ],
      "execution_count": null,
      "outputs": []
    },
    {
      "cell_type": "code",
      "metadata": {
        "id": "eGY3-EYPbg6W"
      },
      "source": [
        "df = pd.read_csv('https://raw.githubusercontent.com/nytimes/covid-19-data/master/us-counties.csv')"
      ],
      "execution_count": null,
      "outputs": []
    },
    {
      "cell_type": "code",
      "metadata": {
        "colab": {
          "base_uri": "https://localhost:8080/",
          "height": 419
        },
        "id": "Vo6SBl60cEup",
        "outputId": "f1260a24-0a57-4870-e209-a7c8940bbdd8"
      },
      "source": [
        "df"
      ],
      "execution_count": null,
      "outputs": [
        {
          "output_type": "execute_result",
          "data": {
            "text/html": [
              "<div>\n",
              "<style scoped>\n",
              "    .dataframe tbody tr th:only-of-type {\n",
              "        vertical-align: middle;\n",
              "    }\n",
              "\n",
              "    .dataframe tbody tr th {\n",
              "        vertical-align: top;\n",
              "    }\n",
              "\n",
              "    .dataframe thead th {\n",
              "        text-align: right;\n",
              "    }\n",
              "</style>\n",
              "<table border=\"1\" class=\"dataframe\">\n",
              "  <thead>\n",
              "    <tr style=\"text-align: right;\">\n",
              "      <th></th>\n",
              "      <th>date</th>\n",
              "      <th>county</th>\n",
              "      <th>state</th>\n",
              "      <th>fips</th>\n",
              "      <th>cases</th>\n",
              "      <th>deaths</th>\n",
              "    </tr>\n",
              "  </thead>\n",
              "  <tbody>\n",
              "    <tr>\n",
              "      <th>0</th>\n",
              "      <td>2020-01-21</td>\n",
              "      <td>Snohomish</td>\n",
              "      <td>Washington</td>\n",
              "      <td>53061.0</td>\n",
              "      <td>1</td>\n",
              "      <td>0.0</td>\n",
              "    </tr>\n",
              "    <tr>\n",
              "      <th>1</th>\n",
              "      <td>2020-01-22</td>\n",
              "      <td>Snohomish</td>\n",
              "      <td>Washington</td>\n",
              "      <td>53061.0</td>\n",
              "      <td>1</td>\n",
              "      <td>0.0</td>\n",
              "    </tr>\n",
              "    <tr>\n",
              "      <th>2</th>\n",
              "      <td>2020-01-23</td>\n",
              "      <td>Snohomish</td>\n",
              "      <td>Washington</td>\n",
              "      <td>53061.0</td>\n",
              "      <td>1</td>\n",
              "      <td>0.0</td>\n",
              "    </tr>\n",
              "    <tr>\n",
              "      <th>3</th>\n",
              "      <td>2020-01-24</td>\n",
              "      <td>Cook</td>\n",
              "      <td>Illinois</td>\n",
              "      <td>17031.0</td>\n",
              "      <td>1</td>\n",
              "      <td>0.0</td>\n",
              "    </tr>\n",
              "    <tr>\n",
              "      <th>4</th>\n",
              "      <td>2020-01-24</td>\n",
              "      <td>Snohomish</td>\n",
              "      <td>Washington</td>\n",
              "      <td>53061.0</td>\n",
              "      <td>1</td>\n",
              "      <td>0.0</td>\n",
              "    </tr>\n",
              "    <tr>\n",
              "      <th>...</th>\n",
              "      <td>...</td>\n",
              "      <td>...</td>\n",
              "      <td>...</td>\n",
              "      <td>...</td>\n",
              "      <td>...</td>\n",
              "      <td>...</td>\n",
              "    </tr>\n",
              "    <tr>\n",
              "      <th>930248</th>\n",
              "      <td>2021-01-14</td>\n",
              "      <td>Sweetwater</td>\n",
              "      <td>Wyoming</td>\n",
              "      <td>56037.0</td>\n",
              "      <td>3250</td>\n",
              "      <td>26.0</td>\n",
              "    </tr>\n",
              "    <tr>\n",
              "      <th>930249</th>\n",
              "      <td>2021-01-14</td>\n",
              "      <td>Teton</td>\n",
              "      <td>Wyoming</td>\n",
              "      <td>56039.0</td>\n",
              "      <td>2579</td>\n",
              "      <td>4.0</td>\n",
              "    </tr>\n",
              "    <tr>\n",
              "      <th>930250</th>\n",
              "      <td>2021-01-14</td>\n",
              "      <td>Uinta</td>\n",
              "      <td>Wyoming</td>\n",
              "      <td>56041.0</td>\n",
              "      <td>1794</td>\n",
              "      <td>9.0</td>\n",
              "    </tr>\n",
              "    <tr>\n",
              "      <th>930251</th>\n",
              "      <td>2021-01-14</td>\n",
              "      <td>Washakie</td>\n",
              "      <td>Wyoming</td>\n",
              "      <td>56043.0</td>\n",
              "      <td>836</td>\n",
              "      <td>23.0</td>\n",
              "    </tr>\n",
              "    <tr>\n",
              "      <th>930252</th>\n",
              "      <td>2021-01-14</td>\n",
              "      <td>Weston</td>\n",
              "      <td>Wyoming</td>\n",
              "      <td>56045.0</td>\n",
              "      <td>602</td>\n",
              "      <td>4.0</td>\n",
              "    </tr>\n",
              "  </tbody>\n",
              "</table>\n",
              "<p>930253 rows × 6 columns</p>\n",
              "</div>"
            ],
            "text/plain": [
              "              date      county       state     fips  cases  deaths\n",
              "0       2020-01-21   Snohomish  Washington  53061.0      1     0.0\n",
              "1       2020-01-22   Snohomish  Washington  53061.0      1     0.0\n",
              "2       2020-01-23   Snohomish  Washington  53061.0      1     0.0\n",
              "3       2020-01-24        Cook    Illinois  17031.0      1     0.0\n",
              "4       2020-01-24   Snohomish  Washington  53061.0      1     0.0\n",
              "...            ...         ...         ...      ...    ...     ...\n",
              "930248  2021-01-14  Sweetwater     Wyoming  56037.0   3250    26.0\n",
              "930249  2021-01-14       Teton     Wyoming  56039.0   2579     4.0\n",
              "930250  2021-01-14       Uinta     Wyoming  56041.0   1794     9.0\n",
              "930251  2021-01-14    Washakie     Wyoming  56043.0    836    23.0\n",
              "930252  2021-01-14      Weston     Wyoming  56045.0    602     4.0\n",
              "\n",
              "[930253 rows x 6 columns]"
            ]
          },
          "metadata": {
            "tags": []
          },
          "execution_count": 54
        }
      ]
    },
    {
      "cell_type": "code",
      "metadata": {
        "colab": {
          "base_uri": "https://localhost:8080/"
        },
        "id": "N5ws45GtcFwC",
        "outputId": "60f7dc3a-fc9e-486c-d8d2-55819ed1047a"
      },
      "source": [
        "#Checking data type\r\n",
        "df.dtypes"
      ],
      "execution_count": null,
      "outputs": [
        {
          "output_type": "execute_result",
          "data": {
            "text/plain": [
              "date       object\n",
              "county     object\n",
              "state      object\n",
              "fips      float64\n",
              "cases       int64\n",
              "deaths    float64\n",
              "dtype: object"
            ]
          },
          "metadata": {
            "tags": []
          },
          "execution_count": 55
        }
      ]
    },
    {
      "cell_type": "code",
      "metadata": {
        "colab": {
          "base_uri": "https://localhost:8080/"
        },
        "id": "9FSt4s6JhZXm",
        "outputId": "50d6218f-18bc-46db-b6c0-0430abd29e0e"
      },
      "source": [
        "#Total number of rows and columns\r\n",
        "df.shape"
      ],
      "execution_count": null,
      "outputs": [
        {
          "output_type": "execute_result",
          "data": {
            "text/plain": [
              "(930253, 6)"
            ]
          },
          "metadata": {
            "tags": []
          },
          "execution_count": 56
        }
      ]
    },
    {
      "cell_type": "code",
      "metadata": {
        "colab": {
          "base_uri": "https://localhost:8080/"
        },
        "id": "uShnCSMrhhL1",
        "outputId": "780df28b-70c3-48b5-dd23-ec9249e8f6ed"
      },
      "source": [
        "#Checking for duplicate data\r\n",
        "duplicate_rows_df = df[df.duplicated()]\r\n",
        "print(\"Number of duplicate rows: \",duplicate_rows_df.shape)"
      ],
      "execution_count": null,
      "outputs": [
        {
          "output_type": "stream",
          "text": [
            "Number of duplicate rows:  (0, 6)\n"
          ],
          "name": "stdout"
        }
      ]
    },
    {
      "cell_type": "code",
      "metadata": {
        "colab": {
          "base_uri": "https://localhost:8080/"
        },
        "id": "6YEjaekEiJKV",
        "outputId": "da0c86e3-8159-4ed0-818a-27ec8aeb1dbb"
      },
      "source": [
        "df.count()"
      ],
      "execution_count": null,
      "outputs": [
        {
          "output_type": "execute_result",
          "data": {
            "text/plain": [
              "date      930253\n",
              "county    930253\n",
              "state     930253\n",
              "fips      921562\n",
              "cases     930253\n",
              "deaths    910400\n",
              "dtype: int64"
            ]
          },
          "metadata": {
            "tags": []
          },
          "execution_count": 58
        }
      ]
    },
    {
      "cell_type": "code",
      "metadata": {
        "colab": {
          "base_uri": "https://localhost:8080/"
        },
        "id": "9JEabeh0iWVL",
        "outputId": "c441213e-7295-4aa2-865c-d5f91428c2fe"
      },
      "source": [
        "#Checking for null values and droping those that are errors\r\n",
        "print(df.isnull().sum())"
      ],
      "execution_count": null,
      "outputs": [
        {
          "output_type": "stream",
          "text": [
            "date          0\n",
            "county        0\n",
            "state         0\n",
            "fips       8691\n",
            "cases         0\n",
            "deaths    19853\n",
            "dtype: int64\n"
          ],
          "name": "stdout"
        }
      ]
    },
    {
      "cell_type": "code",
      "metadata": {
        "colab": {
          "base_uri": "https://localhost:8080/"
        },
        "id": "EFsSrB3xe79x",
        "outputId": "5c68745d-a97f-428a-c1c7-8000ba95abb4"
      },
      "source": [
        "# To know all the columns\r\n",
        "df.columns"
      ],
      "execution_count": null,
      "outputs": [
        {
          "output_type": "execute_result",
          "data": {
            "text/plain": [
              "Index(['date', 'county', 'state', 'fips', 'cases', 'deaths'], dtype='object')"
            ]
          },
          "metadata": {
            "tags": []
          },
          "execution_count": 60
        }
      ]
    },
    {
      "cell_type": "code",
      "metadata": {
        "id": "AgekgqCzfXg5"
      },
      "source": [
        "# To drop irrelevant columns fo my analysis\r\n",
        "df = df.drop(['fips'],axis=1)"
      ],
      "execution_count": null,
      "outputs": []
    },
    {
      "cell_type": "code",
      "metadata": {
        "colab": {
          "base_uri": "https://localhost:8080/",
          "height": 419
        },
        "id": "srS6etOshBYv",
        "outputId": "28dfe810-ea21-4367-fba6-2ee734ab6318"
      },
      "source": [
        "#Checking if the column was dropped\r\n",
        "df"
      ],
      "execution_count": null,
      "outputs": [
        {
          "output_type": "execute_result",
          "data": {
            "text/html": [
              "<div>\n",
              "<style scoped>\n",
              "    .dataframe tbody tr th:only-of-type {\n",
              "        vertical-align: middle;\n",
              "    }\n",
              "\n",
              "    .dataframe tbody tr th {\n",
              "        vertical-align: top;\n",
              "    }\n",
              "\n",
              "    .dataframe thead th {\n",
              "        text-align: right;\n",
              "    }\n",
              "</style>\n",
              "<table border=\"1\" class=\"dataframe\">\n",
              "  <thead>\n",
              "    <tr style=\"text-align: right;\">\n",
              "      <th></th>\n",
              "      <th>date</th>\n",
              "      <th>county</th>\n",
              "      <th>state</th>\n",
              "      <th>cases</th>\n",
              "      <th>deaths</th>\n",
              "    </tr>\n",
              "  </thead>\n",
              "  <tbody>\n",
              "    <tr>\n",
              "      <th>0</th>\n",
              "      <td>2020-01-21</td>\n",
              "      <td>Snohomish</td>\n",
              "      <td>Washington</td>\n",
              "      <td>1</td>\n",
              "      <td>0.0</td>\n",
              "    </tr>\n",
              "    <tr>\n",
              "      <th>1</th>\n",
              "      <td>2020-01-22</td>\n",
              "      <td>Snohomish</td>\n",
              "      <td>Washington</td>\n",
              "      <td>1</td>\n",
              "      <td>0.0</td>\n",
              "    </tr>\n",
              "    <tr>\n",
              "      <th>2</th>\n",
              "      <td>2020-01-23</td>\n",
              "      <td>Snohomish</td>\n",
              "      <td>Washington</td>\n",
              "      <td>1</td>\n",
              "      <td>0.0</td>\n",
              "    </tr>\n",
              "    <tr>\n",
              "      <th>3</th>\n",
              "      <td>2020-01-24</td>\n",
              "      <td>Cook</td>\n",
              "      <td>Illinois</td>\n",
              "      <td>1</td>\n",
              "      <td>0.0</td>\n",
              "    </tr>\n",
              "    <tr>\n",
              "      <th>4</th>\n",
              "      <td>2020-01-24</td>\n",
              "      <td>Snohomish</td>\n",
              "      <td>Washington</td>\n",
              "      <td>1</td>\n",
              "      <td>0.0</td>\n",
              "    </tr>\n",
              "    <tr>\n",
              "      <th>...</th>\n",
              "      <td>...</td>\n",
              "      <td>...</td>\n",
              "      <td>...</td>\n",
              "      <td>...</td>\n",
              "      <td>...</td>\n",
              "    </tr>\n",
              "    <tr>\n",
              "      <th>930248</th>\n",
              "      <td>2021-01-14</td>\n",
              "      <td>Sweetwater</td>\n",
              "      <td>Wyoming</td>\n",
              "      <td>3250</td>\n",
              "      <td>26.0</td>\n",
              "    </tr>\n",
              "    <tr>\n",
              "      <th>930249</th>\n",
              "      <td>2021-01-14</td>\n",
              "      <td>Teton</td>\n",
              "      <td>Wyoming</td>\n",
              "      <td>2579</td>\n",
              "      <td>4.0</td>\n",
              "    </tr>\n",
              "    <tr>\n",
              "      <th>930250</th>\n",
              "      <td>2021-01-14</td>\n",
              "      <td>Uinta</td>\n",
              "      <td>Wyoming</td>\n",
              "      <td>1794</td>\n",
              "      <td>9.0</td>\n",
              "    </tr>\n",
              "    <tr>\n",
              "      <th>930251</th>\n",
              "      <td>2021-01-14</td>\n",
              "      <td>Washakie</td>\n",
              "      <td>Wyoming</td>\n",
              "      <td>836</td>\n",
              "      <td>23.0</td>\n",
              "    </tr>\n",
              "    <tr>\n",
              "      <th>930252</th>\n",
              "      <td>2021-01-14</td>\n",
              "      <td>Weston</td>\n",
              "      <td>Wyoming</td>\n",
              "      <td>602</td>\n",
              "      <td>4.0</td>\n",
              "    </tr>\n",
              "  </tbody>\n",
              "</table>\n",
              "<p>930253 rows × 5 columns</p>\n",
              "</div>"
            ],
            "text/plain": [
              "              date      county       state  cases  deaths\n",
              "0       2020-01-21   Snohomish  Washington      1     0.0\n",
              "1       2020-01-22   Snohomish  Washington      1     0.0\n",
              "2       2020-01-23   Snohomish  Washington      1     0.0\n",
              "3       2020-01-24        Cook    Illinois      1     0.0\n",
              "4       2020-01-24   Snohomish  Washington      1     0.0\n",
              "...            ...         ...         ...    ...     ...\n",
              "930248  2021-01-14  Sweetwater     Wyoming   3250    26.0\n",
              "930249  2021-01-14       Teton     Wyoming   2579     4.0\n",
              "930250  2021-01-14       Uinta     Wyoming   1794     9.0\n",
              "930251  2021-01-14    Washakie     Wyoming    836    23.0\n",
              "930252  2021-01-14      Weston     Wyoming    602     4.0\n",
              "\n",
              "[930253 rows x 5 columns]"
            ]
          },
          "metadata": {
            "tags": []
          },
          "execution_count": 62
        }
      ]
    },
    {
      "cell_type": "code",
      "metadata": {
        "colab": {
          "base_uri": "https://localhost:8080/",
          "height": 297
        },
        "id": "XyKkfE4bhEoB",
        "outputId": "1b40cff1-303f-454a-f386-267e1b29e7e2"
      },
      "source": [
        "df.describe()"
      ],
      "execution_count": null,
      "outputs": [
        {
          "output_type": "execute_result",
          "data": {
            "text/html": [
              "<div>\n",
              "<style scoped>\n",
              "    .dataframe tbody tr th:only-of-type {\n",
              "        vertical-align: middle;\n",
              "    }\n",
              "\n",
              "    .dataframe tbody tr th {\n",
              "        vertical-align: top;\n",
              "    }\n",
              "\n",
              "    .dataframe thead th {\n",
              "        text-align: right;\n",
              "    }\n",
              "</style>\n",
              "<table border=\"1\" class=\"dataframe\">\n",
              "  <thead>\n",
              "    <tr style=\"text-align: right;\">\n",
              "      <th></th>\n",
              "      <th>cases</th>\n",
              "      <th>deaths</th>\n",
              "    </tr>\n",
              "  </thead>\n",
              "  <tbody>\n",
              "    <tr>\n",
              "      <th>count</th>\n",
              "      <td>930253.000000</td>\n",
              "      <td>910400.000000</td>\n",
              "    </tr>\n",
              "    <tr>\n",
              "      <th>mean</th>\n",
              "      <td>2184.935301</td>\n",
              "      <td>56.622094</td>\n",
              "    </tr>\n",
              "    <tr>\n",
              "      <th>std</th>\n",
              "      <td>11426.796033</td>\n",
              "      <td>459.918372</td>\n",
              "    </tr>\n",
              "    <tr>\n",
              "      <th>min</th>\n",
              "      <td>0.000000</td>\n",
              "      <td>0.000000</td>\n",
              "    </tr>\n",
              "    <tr>\n",
              "      <th>25%</th>\n",
              "      <td>40.000000</td>\n",
              "      <td>0.000000</td>\n",
              "    </tr>\n",
              "    <tr>\n",
              "      <th>50%</th>\n",
              "      <td>260.000000</td>\n",
              "      <td>4.000000</td>\n",
              "    </tr>\n",
              "    <tr>\n",
              "      <th>75%</th>\n",
              "      <td>1123.000000</td>\n",
              "      <td>24.000000</td>\n",
              "    </tr>\n",
              "    <tr>\n",
              "      <th>max</th>\n",
              "      <td>975693.000000</td>\n",
              "      <td>25834.000000</td>\n",
              "    </tr>\n",
              "  </tbody>\n",
              "</table>\n",
              "</div>"
            ],
            "text/plain": [
              "               cases         deaths\n",
              "count  930253.000000  910400.000000\n",
              "mean     2184.935301      56.622094\n",
              "std     11426.796033     459.918372\n",
              "min         0.000000       0.000000\n",
              "25%        40.000000       0.000000\n",
              "50%       260.000000       4.000000\n",
              "75%      1123.000000      24.000000\n",
              "max    975693.000000   25834.000000"
            ]
          },
          "metadata": {
            "tags": []
          },
          "execution_count": 63
        }
      ]
    },
    {
      "cell_type": "code",
      "metadata": {
        "id": "zrYRjBSAzDdo"
      },
      "source": [
        "# This variable will tell me the number of death and cases only for New York\r\n",
        "df1 = df[~df['state'].isin(['Guam','District of Columbia','California','Texas','Florida','Pennsylvania','Georgia','Alaska','Arizona','Michigan','Washington','Nevada','Hawaii','Massachusetts','Ohio','Wisconsin','Alabama','Colorado','North Carolina','Indiana','Illinois','New Jersey','Minnesota','Virginia','Montana','Oregon','Maine','Delaware','Maryland','Utah','Missouri','Tennessee','Kentucky','Louisiana','Connecticut','Wyoming','South Carolina','Nebraska','Mississippi','Kansas','Arkansas','New Mexico','Iowa','Idaho','Vermont','North Dakota','Rhode Island','New Hampshire','West Virginia','South Dakota','Oklahoma','Puerto Rico','Northern Mariana Islands','Virgin Islands'])]"
      ],
      "execution_count": null,
      "outputs": []
    },
    {
      "cell_type": "code",
      "metadata": {
        "colab": {
          "base_uri": "https://localhost:8080/",
          "height": 419
        },
        "id": "6BmScdomEwjf",
        "outputId": "349a150a-d2c3-481d-cd3f-2f5b0a533fd2"
      },
      "source": [
        "df1"
      ],
      "execution_count": null,
      "outputs": [
        {
          "output_type": "execute_result",
          "data": {
            "text/html": [
              "<div>\n",
              "<style scoped>\n",
              "    .dataframe tbody tr th:only-of-type {\n",
              "        vertical-align: middle;\n",
              "    }\n",
              "\n",
              "    .dataframe tbody tr th {\n",
              "        vertical-align: top;\n",
              "    }\n",
              "\n",
              "    .dataframe thead th {\n",
              "        text-align: right;\n",
              "    }\n",
              "</style>\n",
              "<table border=\"1\" class=\"dataframe\">\n",
              "  <thead>\n",
              "    <tr style=\"text-align: right;\">\n",
              "      <th></th>\n",
              "      <th>date</th>\n",
              "      <th>county</th>\n",
              "      <th>state</th>\n",
              "      <th>cases</th>\n",
              "      <th>deaths</th>\n",
              "    </tr>\n",
              "  </thead>\n",
              "  <tbody>\n",
              "    <tr>\n",
              "      <th>416</th>\n",
              "      <td>2020-03-01</td>\n",
              "      <td>New York City</td>\n",
              "      <td>New York</td>\n",
              "      <td>1</td>\n",
              "      <td>0.0</td>\n",
              "    </tr>\n",
              "    <tr>\n",
              "      <th>448</th>\n",
              "      <td>2020-03-02</td>\n",
              "      <td>New York City</td>\n",
              "      <td>New York</td>\n",
              "      <td>1</td>\n",
              "      <td>0.0</td>\n",
              "    </tr>\n",
              "    <tr>\n",
              "      <th>482</th>\n",
              "      <td>2020-03-03</td>\n",
              "      <td>New York City</td>\n",
              "      <td>New York</td>\n",
              "      <td>2</td>\n",
              "      <td>0.0</td>\n",
              "    </tr>\n",
              "    <tr>\n",
              "      <th>518</th>\n",
              "      <td>2020-03-04</td>\n",
              "      <td>New York City</td>\n",
              "      <td>New York</td>\n",
              "      <td>2</td>\n",
              "      <td>0.0</td>\n",
              "    </tr>\n",
              "    <tr>\n",
              "      <th>519</th>\n",
              "      <td>2020-03-04</td>\n",
              "      <td>Westchester</td>\n",
              "      <td>New York</td>\n",
              "      <td>9</td>\n",
              "      <td>0.0</td>\n",
              "    </tr>\n",
              "    <tr>\n",
              "      <th>...</th>\n",
              "      <td>...</td>\n",
              "      <td>...</td>\n",
              "      <td>...</td>\n",
              "      <td>...</td>\n",
              "      <td>...</td>\n",
              "    </tr>\n",
              "    <tr>\n",
              "      <th>928906</th>\n",
              "      <td>2021-01-14</td>\n",
              "      <td>Washington</td>\n",
              "      <td>New York</td>\n",
              "      <td>1332</td>\n",
              "      <td>20.0</td>\n",
              "    </tr>\n",
              "    <tr>\n",
              "      <th>928907</th>\n",
              "      <td>2021-01-14</td>\n",
              "      <td>Wayne</td>\n",
              "      <td>New York</td>\n",
              "      <td>3448</td>\n",
              "      <td>50.0</td>\n",
              "    </tr>\n",
              "    <tr>\n",
              "      <th>928908</th>\n",
              "      <td>2021-01-14</td>\n",
              "      <td>Westchester</td>\n",
              "      <td>New York</td>\n",
              "      <td>80868</td>\n",
              "      <td>1763.0</td>\n",
              "    </tr>\n",
              "    <tr>\n",
              "      <th>928909</th>\n",
              "      <td>2021-01-14</td>\n",
              "      <td>Wyoming</td>\n",
              "      <td>New York</td>\n",
              "      <td>1939</td>\n",
              "      <td>40.0</td>\n",
              "    </tr>\n",
              "    <tr>\n",
              "      <th>928910</th>\n",
              "      <td>2021-01-14</td>\n",
              "      <td>Yates</td>\n",
              "      <td>New York</td>\n",
              "      <td>745</td>\n",
              "      <td>16.0</td>\n",
              "    </tr>\n",
              "  </tbody>\n",
              "</table>\n",
              "<p>17620 rows × 5 columns</p>\n",
              "</div>"
            ],
            "text/plain": [
              "              date         county     state  cases  deaths\n",
              "416     2020-03-01  New York City  New York      1     0.0\n",
              "448     2020-03-02  New York City  New York      1     0.0\n",
              "482     2020-03-03  New York City  New York      2     0.0\n",
              "518     2020-03-04  New York City  New York      2     0.0\n",
              "519     2020-03-04    Westchester  New York      9     0.0\n",
              "...            ...            ...       ...    ...     ...\n",
              "928906  2021-01-14     Washington  New York   1332    20.0\n",
              "928907  2021-01-14          Wayne  New York   3448    50.0\n",
              "928908  2021-01-14    Westchester  New York  80868  1763.0\n",
              "928909  2021-01-14        Wyoming  New York   1939    40.0\n",
              "928910  2021-01-14          Yates  New York    745    16.0\n",
              "\n",
              "[17620 rows x 5 columns]"
            ]
          },
          "metadata": {
            "tags": []
          },
          "execution_count": 65
        }
      ]
    },
    {
      "cell_type": "code",
      "metadata": {
        "id": "zrq6FOzg2RZV"
      },
      "source": [
        "# This variable will tell me the number of death and cases only for New York between 2020-12-15 and 2021-01-14\r\n",
        "df2 = df1[(df1['date']>'2020-12-14')]"
      ],
      "execution_count": null,
      "outputs": []
    },
    {
      "cell_type": "code",
      "metadata": {
        "colab": {
          "base_uri": "https://localhost:8080/",
          "height": 419
        },
        "id": "Pjd_NAiF2bva",
        "outputId": "8168e88a-83f5-4fcb-a4bf-0434bbe02a39"
      },
      "source": [
        "df2"
      ],
      "execution_count": null,
      "outputs": [
        {
          "output_type": "execute_result",
          "data": {
            "text/html": [
              "<div>\n",
              "<style scoped>\n",
              "    .dataframe tbody tr th:only-of-type {\n",
              "        vertical-align: middle;\n",
              "    }\n",
              "\n",
              "    .dataframe tbody tr th {\n",
              "        vertical-align: top;\n",
              "    }\n",
              "\n",
              "    .dataframe thead th {\n",
              "        text-align: right;\n",
              "    }\n",
              "</style>\n",
              "<table border=\"1\" class=\"dataframe\">\n",
              "  <thead>\n",
              "    <tr style=\"text-align: right;\">\n",
              "      <th></th>\n",
              "      <th>date</th>\n",
              "      <th>county</th>\n",
              "      <th>state</th>\n",
              "      <th>cases</th>\n",
              "      <th>deaths</th>\n",
              "    </tr>\n",
              "  </thead>\n",
              "  <tbody>\n",
              "    <tr>\n",
              "      <th>831494</th>\n",
              "      <td>2020-12-15</td>\n",
              "      <td>Albany</td>\n",
              "      <td>New York</td>\n",
              "      <td>8214</td>\n",
              "      <td>173.0</td>\n",
              "    </tr>\n",
              "    <tr>\n",
              "      <th>831495</th>\n",
              "      <td>2020-12-15</td>\n",
              "      <td>Allegany</td>\n",
              "      <td>New York</td>\n",
              "      <td>1427</td>\n",
              "      <td>65.0</td>\n",
              "    </tr>\n",
              "    <tr>\n",
              "      <th>831496</th>\n",
              "      <td>2020-12-15</td>\n",
              "      <td>Broome</td>\n",
              "      <td>New York</td>\n",
              "      <td>6601</td>\n",
              "      <td>178.0</td>\n",
              "    </tr>\n",
              "    <tr>\n",
              "      <th>831497</th>\n",
              "      <td>2020-12-15</td>\n",
              "      <td>Cattaraugus</td>\n",
              "      <td>New York</td>\n",
              "      <td>1817</td>\n",
              "      <td>29.0</td>\n",
              "    </tr>\n",
              "    <tr>\n",
              "      <th>831498</th>\n",
              "      <td>2020-12-15</td>\n",
              "      <td>Cayuga</td>\n",
              "      <td>New York</td>\n",
              "      <td>1629</td>\n",
              "      <td>14.0</td>\n",
              "    </tr>\n",
              "    <tr>\n",
              "      <th>...</th>\n",
              "      <td>...</td>\n",
              "      <td>...</td>\n",
              "      <td>...</td>\n",
              "      <td>...</td>\n",
              "      <td>...</td>\n",
              "    </tr>\n",
              "    <tr>\n",
              "      <th>928906</th>\n",
              "      <td>2021-01-14</td>\n",
              "      <td>Washington</td>\n",
              "      <td>New York</td>\n",
              "      <td>1332</td>\n",
              "      <td>20.0</td>\n",
              "    </tr>\n",
              "    <tr>\n",
              "      <th>928907</th>\n",
              "      <td>2021-01-14</td>\n",
              "      <td>Wayne</td>\n",
              "      <td>New York</td>\n",
              "      <td>3448</td>\n",
              "      <td>50.0</td>\n",
              "    </tr>\n",
              "    <tr>\n",
              "      <th>928908</th>\n",
              "      <td>2021-01-14</td>\n",
              "      <td>Westchester</td>\n",
              "      <td>New York</td>\n",
              "      <td>80868</td>\n",
              "      <td>1763.0</td>\n",
              "    </tr>\n",
              "    <tr>\n",
              "      <th>928909</th>\n",
              "      <td>2021-01-14</td>\n",
              "      <td>Wyoming</td>\n",
              "      <td>New York</td>\n",
              "      <td>1939</td>\n",
              "      <td>40.0</td>\n",
              "    </tr>\n",
              "    <tr>\n",
              "      <th>928910</th>\n",
              "      <td>2021-01-14</td>\n",
              "      <td>Yates</td>\n",
              "      <td>New York</td>\n",
              "      <td>745</td>\n",
              "      <td>16.0</td>\n",
              "    </tr>\n",
              "  </tbody>\n",
              "</table>\n",
              "<p>1798 rows × 5 columns</p>\n",
              "</div>"
            ],
            "text/plain": [
              "              date       county     state  cases  deaths\n",
              "831494  2020-12-15       Albany  New York   8214   173.0\n",
              "831495  2020-12-15     Allegany  New York   1427    65.0\n",
              "831496  2020-12-15       Broome  New York   6601   178.0\n",
              "831497  2020-12-15  Cattaraugus  New York   1817    29.0\n",
              "831498  2020-12-15       Cayuga  New York   1629    14.0\n",
              "...            ...          ...       ...    ...     ...\n",
              "928906  2021-01-14   Washington  New York   1332    20.0\n",
              "928907  2021-01-14        Wayne  New York   3448    50.0\n",
              "928908  2021-01-14  Westchester  New York  80868  1763.0\n",
              "928909  2021-01-14      Wyoming  New York   1939    40.0\n",
              "928910  2021-01-14        Yates  New York    745    16.0\n",
              "\n",
              "[1798 rows x 5 columns]"
            ]
          },
          "metadata": {
            "tags": []
          },
          "execution_count": 67
        }
      ]
    },
    {
      "cell_type": "code",
      "metadata": {
        "id": "whdTv8FmMnhH"
      },
      "source": [
        "#I needed to create a more specific table to create meaningful charts, so df3 will give me the deaths and cases only for NYC\r\n",
        "New_York = df2.groupby(['county'])\r\n",
        "New_York.get_group('New York City')\r\n",
        "df3 = New_York.get_group('New York City')"
      ],
      "execution_count": null,
      "outputs": []
    },
    {
      "cell_type": "code",
      "metadata": {
        "colab": {
          "base_uri": "https://localhost:8080/",
          "height": 1000
        },
        "id": "YRTqdr25w7M6",
        "outputId": "2f20ed26-4a74-4ffa-8db2-7571276588bf"
      },
      "source": [
        "df3"
      ],
      "execution_count": null,
      "outputs": [
        {
          "output_type": "execute_result",
          "data": {
            "text/html": [
              "<div>\n",
              "<style scoped>\n",
              "    .dataframe tbody tr th:only-of-type {\n",
              "        vertical-align: middle;\n",
              "    }\n",
              "\n",
              "    .dataframe tbody tr th {\n",
              "        vertical-align: top;\n",
              "    }\n",
              "\n",
              "    .dataframe thead th {\n",
              "        text-align: right;\n",
              "    }\n",
              "</style>\n",
              "<table border=\"1\" class=\"dataframe\">\n",
              "  <thead>\n",
              "    <tr style=\"text-align: right;\">\n",
              "      <th></th>\n",
              "      <th>date</th>\n",
              "      <th>county</th>\n",
              "      <th>state</th>\n",
              "      <th>cases</th>\n",
              "      <th>deaths</th>\n",
              "    </tr>\n",
              "  </thead>\n",
              "  <tbody>\n",
              "    <tr>\n",
              "      <th>831522</th>\n",
              "      <td>2020-12-15</td>\n",
              "      <td>New York City</td>\n",
              "      <td>New York</td>\n",
              "      <td>367198</td>\n",
              "      <td>24561.0</td>\n",
              "    </tr>\n",
              "    <tr>\n",
              "      <th>834768</th>\n",
              "      <td>2020-12-16</td>\n",
              "      <td>New York City</td>\n",
              "      <td>New York</td>\n",
              "      <td>370109</td>\n",
              "      <td>24578.0</td>\n",
              "    </tr>\n",
              "    <tr>\n",
              "      <th>838014</th>\n",
              "      <td>2020-12-17</td>\n",
              "      <td>New York City</td>\n",
              "      <td>New York</td>\n",
              "      <td>373320</td>\n",
              "      <td>24613.0</td>\n",
              "    </tr>\n",
              "    <tr>\n",
              "      <th>841259</th>\n",
              "      <td>2020-12-18</td>\n",
              "      <td>New York City</td>\n",
              "      <td>New York</td>\n",
              "      <td>377728</td>\n",
              "      <td>24652.0</td>\n",
              "    </tr>\n",
              "    <tr>\n",
              "      <th>844505</th>\n",
              "      <td>2020-12-19</td>\n",
              "      <td>New York City</td>\n",
              "      <td>New York</td>\n",
              "      <td>381067</td>\n",
              "      <td>24677.0</td>\n",
              "    </tr>\n",
              "    <tr>\n",
              "      <th>847750</th>\n",
              "      <td>2020-12-20</td>\n",
              "      <td>New York City</td>\n",
              "      <td>New York</td>\n",
              "      <td>383808</td>\n",
              "      <td>24697.0</td>\n",
              "    </tr>\n",
              "    <tr>\n",
              "      <th>850995</th>\n",
              "      <td>2020-12-21</td>\n",
              "      <td>New York City</td>\n",
              "      <td>New York</td>\n",
              "      <td>387595</td>\n",
              "      <td>24735.0</td>\n",
              "    </tr>\n",
              "    <tr>\n",
              "      <th>854240</th>\n",
              "      <td>2020-12-22</td>\n",
              "      <td>New York City</td>\n",
              "      <td>New York</td>\n",
              "      <td>391634</td>\n",
              "      <td>24768.0</td>\n",
              "    </tr>\n",
              "    <tr>\n",
              "      <th>857485</th>\n",
              "      <td>2020-12-23</td>\n",
              "      <td>New York City</td>\n",
              "      <td>New York</td>\n",
              "      <td>395810</td>\n",
              "      <td>24790.0</td>\n",
              "    </tr>\n",
              "    <tr>\n",
              "      <th>860730</th>\n",
              "      <td>2020-12-24</td>\n",
              "      <td>New York City</td>\n",
              "      <td>New York</td>\n",
              "      <td>401251</td>\n",
              "      <td>24842.0</td>\n",
              "    </tr>\n",
              "    <tr>\n",
              "      <th>863975</th>\n",
              "      <td>2020-12-25</td>\n",
              "      <td>New York City</td>\n",
              "      <td>New York</td>\n",
              "      <td>405857</td>\n",
              "      <td>24889.0</td>\n",
              "    </tr>\n",
              "    <tr>\n",
              "      <th>867220</th>\n",
              "      <td>2020-12-26</td>\n",
              "      <td>New York City</td>\n",
              "      <td>New York</td>\n",
              "      <td>410048</td>\n",
              "      <td>24931.0</td>\n",
              "    </tr>\n",
              "    <tr>\n",
              "      <th>870465</th>\n",
              "      <td>2020-12-27</td>\n",
              "      <td>New York City</td>\n",
              "      <td>New York</td>\n",
              "      <td>413472</td>\n",
              "      <td>24973.0</td>\n",
              "    </tr>\n",
              "    <tr>\n",
              "      <th>873710</th>\n",
              "      <td>2020-12-28</td>\n",
              "      <td>New York City</td>\n",
              "      <td>New York</td>\n",
              "      <td>416922</td>\n",
              "      <td>25008.0</td>\n",
              "    </tr>\n",
              "    <tr>\n",
              "      <th>876955</th>\n",
              "      <td>2020-12-29</td>\n",
              "      <td>New York City</td>\n",
              "      <td>New York</td>\n",
              "      <td>422074</td>\n",
              "      <td>25055.0</td>\n",
              "    </tr>\n",
              "    <tr>\n",
              "      <th>880200</th>\n",
              "      <td>2020-12-30</td>\n",
              "      <td>New York City</td>\n",
              "      <td>New York</td>\n",
              "      <td>426279</td>\n",
              "      <td>25099.0</td>\n",
              "    </tr>\n",
              "    <tr>\n",
              "      <th>883445</th>\n",
              "      <td>2020-12-31</td>\n",
              "      <td>New York City</td>\n",
              "      <td>New York</td>\n",
              "      <td>430863</td>\n",
              "      <td>25144.0</td>\n",
              "    </tr>\n",
              "    <tr>\n",
              "      <th>886690</th>\n",
              "      <td>2021-01-01</td>\n",
              "      <td>New York City</td>\n",
              "      <td>New York</td>\n",
              "      <td>436692</td>\n",
              "      <td>25186.0</td>\n",
              "    </tr>\n",
              "    <tr>\n",
              "      <th>889937</th>\n",
              "      <td>2021-01-02</td>\n",
              "      <td>New York City</td>\n",
              "      <td>New York</td>\n",
              "      <td>442695</td>\n",
              "      <td>25211.0</td>\n",
              "    </tr>\n",
              "    <tr>\n",
              "      <th>893183</th>\n",
              "      <td>2021-01-03</td>\n",
              "      <td>New York City</td>\n",
              "      <td>New York</td>\n",
              "      <td>446899</td>\n",
              "      <td>25244.0</td>\n",
              "    </tr>\n",
              "    <tr>\n",
              "      <th>896429</th>\n",
              "      <td>2021-01-04</td>\n",
              "      <td>New York City</td>\n",
              "      <td>New York</td>\n",
              "      <td>450658</td>\n",
              "      <td>25284.0</td>\n",
              "    </tr>\n",
              "    <tr>\n",
              "      <th>899674</th>\n",
              "      <td>2021-01-05</td>\n",
              "      <td>New York City</td>\n",
              "      <td>New York</td>\n",
              "      <td>455997</td>\n",
              "      <td>25309.0</td>\n",
              "    </tr>\n",
              "    <tr>\n",
              "      <th>902919</th>\n",
              "      <td>2021-01-06</td>\n",
              "      <td>New York City</td>\n",
              "      <td>New York</td>\n",
              "      <td>460988</td>\n",
              "      <td>25362.0</td>\n",
              "    </tr>\n",
              "    <tr>\n",
              "      <th>906165</th>\n",
              "      <td>2021-01-07</td>\n",
              "      <td>New York City</td>\n",
              "      <td>New York</td>\n",
              "      <td>467327</td>\n",
              "      <td>25416.0</td>\n",
              "    </tr>\n",
              "    <tr>\n",
              "      <th>909410</th>\n",
              "      <td>2021-01-08</td>\n",
              "      <td>New York City</td>\n",
              "      <td>New York</td>\n",
              "      <td>474339</td>\n",
              "      <td>25453.0</td>\n",
              "    </tr>\n",
              "    <tr>\n",
              "      <th>912655</th>\n",
              "      <td>2021-01-09</td>\n",
              "      <td>New York City</td>\n",
              "      <td>New York</td>\n",
              "      <td>481279</td>\n",
              "      <td>25505.0</td>\n",
              "    </tr>\n",
              "    <tr>\n",
              "      <th>915900</th>\n",
              "      <td>2021-01-10</td>\n",
              "      <td>New York City</td>\n",
              "      <td>New York</td>\n",
              "      <td>487551</td>\n",
              "      <td>25562.0</td>\n",
              "    </tr>\n",
              "    <tr>\n",
              "      <th>919145</th>\n",
              "      <td>2021-01-11</td>\n",
              "      <td>New York City</td>\n",
              "      <td>New York</td>\n",
              "      <td>493306</td>\n",
              "      <td>25635.0</td>\n",
              "    </tr>\n",
              "    <tr>\n",
              "      <th>922390</th>\n",
              "      <td>2021-01-12</td>\n",
              "      <td>New York City</td>\n",
              "      <td>New York</td>\n",
              "      <td>498877</td>\n",
              "      <td>25698.0</td>\n",
              "    </tr>\n",
              "    <tr>\n",
              "      <th>925636</th>\n",
              "      <td>2021-01-13</td>\n",
              "      <td>New York City</td>\n",
              "      <td>New York</td>\n",
              "      <td>504826</td>\n",
              "      <td>25741.0</td>\n",
              "    </tr>\n",
              "    <tr>\n",
              "      <th>928881</th>\n",
              "      <td>2021-01-14</td>\n",
              "      <td>New York City</td>\n",
              "      <td>New York</td>\n",
              "      <td>510711</td>\n",
              "      <td>25834.0</td>\n",
              "    </tr>\n",
              "  </tbody>\n",
              "</table>\n",
              "</div>"
            ],
            "text/plain": [
              "              date         county     state   cases   deaths\n",
              "831522  2020-12-15  New York City  New York  367198  24561.0\n",
              "834768  2020-12-16  New York City  New York  370109  24578.0\n",
              "838014  2020-12-17  New York City  New York  373320  24613.0\n",
              "841259  2020-12-18  New York City  New York  377728  24652.0\n",
              "844505  2020-12-19  New York City  New York  381067  24677.0\n",
              "847750  2020-12-20  New York City  New York  383808  24697.0\n",
              "850995  2020-12-21  New York City  New York  387595  24735.0\n",
              "854240  2020-12-22  New York City  New York  391634  24768.0\n",
              "857485  2020-12-23  New York City  New York  395810  24790.0\n",
              "860730  2020-12-24  New York City  New York  401251  24842.0\n",
              "863975  2020-12-25  New York City  New York  405857  24889.0\n",
              "867220  2020-12-26  New York City  New York  410048  24931.0\n",
              "870465  2020-12-27  New York City  New York  413472  24973.0\n",
              "873710  2020-12-28  New York City  New York  416922  25008.0\n",
              "876955  2020-12-29  New York City  New York  422074  25055.0\n",
              "880200  2020-12-30  New York City  New York  426279  25099.0\n",
              "883445  2020-12-31  New York City  New York  430863  25144.0\n",
              "886690  2021-01-01  New York City  New York  436692  25186.0\n",
              "889937  2021-01-02  New York City  New York  442695  25211.0\n",
              "893183  2021-01-03  New York City  New York  446899  25244.0\n",
              "896429  2021-01-04  New York City  New York  450658  25284.0\n",
              "899674  2021-01-05  New York City  New York  455997  25309.0\n",
              "902919  2021-01-06  New York City  New York  460988  25362.0\n",
              "906165  2021-01-07  New York City  New York  467327  25416.0\n",
              "909410  2021-01-08  New York City  New York  474339  25453.0\n",
              "912655  2021-01-09  New York City  New York  481279  25505.0\n",
              "915900  2021-01-10  New York City  New York  487551  25562.0\n",
              "919145  2021-01-11  New York City  New York  493306  25635.0\n",
              "922390  2021-01-12  New York City  New York  498877  25698.0\n",
              "925636  2021-01-13  New York City  New York  504826  25741.0\n",
              "928881  2021-01-14  New York City  New York  510711  25834.0"
            ]
          },
          "metadata": {
            "tags": []
          },
          "execution_count": 69
        }
      ]
    },
    {
      "cell_type": "code",
      "metadata": {
        "colab": {
          "base_uri": "https://localhost:8080/"
        },
        "id": "qrVK8QQf0QGw",
        "outputId": "43fada01-58fb-4202-acca-98fb62f1763d"
      },
      "source": [
        "#I needed to create a new variable called Days to use it as my x in my chart and compare that with the number of deaths and cases\r\n",
        "df3['Days'] = 0\r\n",
        "for i in range(0,31):\r\n",
        "  df3.iloc[i,5] = i"
      ],
      "execution_count": null,
      "outputs": [
        {
          "output_type": "stream",
          "text": [
            "/usr/local/lib/python3.6/dist-packages/ipykernel_launcher.py:2: SettingWithCopyWarning: \n",
            "A value is trying to be set on a copy of a slice from a DataFrame.\n",
            "Try using .loc[row_indexer,col_indexer] = value instead\n",
            "\n",
            "See the caveats in the documentation: https://pandas.pydata.org/pandas-docs/stable/user_guide/indexing.html#returning-a-view-versus-a-copy\n",
            "  \n",
            "/usr/local/lib/python3.6/dist-packages/pandas/core/indexing.py:1763: SettingWithCopyWarning: \n",
            "A value is trying to be set on a copy of a slice from a DataFrame.\n",
            "Try using .loc[row_indexer,col_indexer] = value instead\n",
            "\n",
            "See the caveats in the documentation: https://pandas.pydata.org/pandas-docs/stable/user_guide/indexing.html#returning-a-view-versus-a-copy\n",
            "  isetter(loc, value)\n"
          ],
          "name": "stderr"
        }
      ]
    },
    {
      "cell_type": "code",
      "metadata": {
        "colab": {
          "base_uri": "https://localhost:8080/",
          "height": 1000
        },
        "id": "yVNr7T8v1OKj",
        "outputId": "acd0e04f-c27f-4d36-dabe-af8b757d5edb"
      },
      "source": [
        "df3"
      ],
      "execution_count": null,
      "outputs": [
        {
          "output_type": "execute_result",
          "data": {
            "text/html": [
              "<div>\n",
              "<style scoped>\n",
              "    .dataframe tbody tr th:only-of-type {\n",
              "        vertical-align: middle;\n",
              "    }\n",
              "\n",
              "    .dataframe tbody tr th {\n",
              "        vertical-align: top;\n",
              "    }\n",
              "\n",
              "    .dataframe thead th {\n",
              "        text-align: right;\n",
              "    }\n",
              "</style>\n",
              "<table border=\"1\" class=\"dataframe\">\n",
              "  <thead>\n",
              "    <tr style=\"text-align: right;\">\n",
              "      <th></th>\n",
              "      <th>date</th>\n",
              "      <th>county</th>\n",
              "      <th>state</th>\n",
              "      <th>cases</th>\n",
              "      <th>deaths</th>\n",
              "      <th>Days</th>\n",
              "    </tr>\n",
              "  </thead>\n",
              "  <tbody>\n",
              "    <tr>\n",
              "      <th>831522</th>\n",
              "      <td>2020-12-15</td>\n",
              "      <td>New York City</td>\n",
              "      <td>New York</td>\n",
              "      <td>367198</td>\n",
              "      <td>24561.0</td>\n",
              "      <td>0</td>\n",
              "    </tr>\n",
              "    <tr>\n",
              "      <th>834768</th>\n",
              "      <td>2020-12-16</td>\n",
              "      <td>New York City</td>\n",
              "      <td>New York</td>\n",
              "      <td>370109</td>\n",
              "      <td>24578.0</td>\n",
              "      <td>1</td>\n",
              "    </tr>\n",
              "    <tr>\n",
              "      <th>838014</th>\n",
              "      <td>2020-12-17</td>\n",
              "      <td>New York City</td>\n",
              "      <td>New York</td>\n",
              "      <td>373320</td>\n",
              "      <td>24613.0</td>\n",
              "      <td>2</td>\n",
              "    </tr>\n",
              "    <tr>\n",
              "      <th>841259</th>\n",
              "      <td>2020-12-18</td>\n",
              "      <td>New York City</td>\n",
              "      <td>New York</td>\n",
              "      <td>377728</td>\n",
              "      <td>24652.0</td>\n",
              "      <td>3</td>\n",
              "    </tr>\n",
              "    <tr>\n",
              "      <th>844505</th>\n",
              "      <td>2020-12-19</td>\n",
              "      <td>New York City</td>\n",
              "      <td>New York</td>\n",
              "      <td>381067</td>\n",
              "      <td>24677.0</td>\n",
              "      <td>4</td>\n",
              "    </tr>\n",
              "    <tr>\n",
              "      <th>847750</th>\n",
              "      <td>2020-12-20</td>\n",
              "      <td>New York City</td>\n",
              "      <td>New York</td>\n",
              "      <td>383808</td>\n",
              "      <td>24697.0</td>\n",
              "      <td>5</td>\n",
              "    </tr>\n",
              "    <tr>\n",
              "      <th>850995</th>\n",
              "      <td>2020-12-21</td>\n",
              "      <td>New York City</td>\n",
              "      <td>New York</td>\n",
              "      <td>387595</td>\n",
              "      <td>24735.0</td>\n",
              "      <td>6</td>\n",
              "    </tr>\n",
              "    <tr>\n",
              "      <th>854240</th>\n",
              "      <td>2020-12-22</td>\n",
              "      <td>New York City</td>\n",
              "      <td>New York</td>\n",
              "      <td>391634</td>\n",
              "      <td>24768.0</td>\n",
              "      <td>7</td>\n",
              "    </tr>\n",
              "    <tr>\n",
              "      <th>857485</th>\n",
              "      <td>2020-12-23</td>\n",
              "      <td>New York City</td>\n",
              "      <td>New York</td>\n",
              "      <td>395810</td>\n",
              "      <td>24790.0</td>\n",
              "      <td>8</td>\n",
              "    </tr>\n",
              "    <tr>\n",
              "      <th>860730</th>\n",
              "      <td>2020-12-24</td>\n",
              "      <td>New York City</td>\n",
              "      <td>New York</td>\n",
              "      <td>401251</td>\n",
              "      <td>24842.0</td>\n",
              "      <td>9</td>\n",
              "    </tr>\n",
              "    <tr>\n",
              "      <th>863975</th>\n",
              "      <td>2020-12-25</td>\n",
              "      <td>New York City</td>\n",
              "      <td>New York</td>\n",
              "      <td>405857</td>\n",
              "      <td>24889.0</td>\n",
              "      <td>10</td>\n",
              "    </tr>\n",
              "    <tr>\n",
              "      <th>867220</th>\n",
              "      <td>2020-12-26</td>\n",
              "      <td>New York City</td>\n",
              "      <td>New York</td>\n",
              "      <td>410048</td>\n",
              "      <td>24931.0</td>\n",
              "      <td>11</td>\n",
              "    </tr>\n",
              "    <tr>\n",
              "      <th>870465</th>\n",
              "      <td>2020-12-27</td>\n",
              "      <td>New York City</td>\n",
              "      <td>New York</td>\n",
              "      <td>413472</td>\n",
              "      <td>24973.0</td>\n",
              "      <td>12</td>\n",
              "    </tr>\n",
              "    <tr>\n",
              "      <th>873710</th>\n",
              "      <td>2020-12-28</td>\n",
              "      <td>New York City</td>\n",
              "      <td>New York</td>\n",
              "      <td>416922</td>\n",
              "      <td>25008.0</td>\n",
              "      <td>13</td>\n",
              "    </tr>\n",
              "    <tr>\n",
              "      <th>876955</th>\n",
              "      <td>2020-12-29</td>\n",
              "      <td>New York City</td>\n",
              "      <td>New York</td>\n",
              "      <td>422074</td>\n",
              "      <td>25055.0</td>\n",
              "      <td>14</td>\n",
              "    </tr>\n",
              "    <tr>\n",
              "      <th>880200</th>\n",
              "      <td>2020-12-30</td>\n",
              "      <td>New York City</td>\n",
              "      <td>New York</td>\n",
              "      <td>426279</td>\n",
              "      <td>25099.0</td>\n",
              "      <td>15</td>\n",
              "    </tr>\n",
              "    <tr>\n",
              "      <th>883445</th>\n",
              "      <td>2020-12-31</td>\n",
              "      <td>New York City</td>\n",
              "      <td>New York</td>\n",
              "      <td>430863</td>\n",
              "      <td>25144.0</td>\n",
              "      <td>16</td>\n",
              "    </tr>\n",
              "    <tr>\n",
              "      <th>886690</th>\n",
              "      <td>2021-01-01</td>\n",
              "      <td>New York City</td>\n",
              "      <td>New York</td>\n",
              "      <td>436692</td>\n",
              "      <td>25186.0</td>\n",
              "      <td>17</td>\n",
              "    </tr>\n",
              "    <tr>\n",
              "      <th>889937</th>\n",
              "      <td>2021-01-02</td>\n",
              "      <td>New York City</td>\n",
              "      <td>New York</td>\n",
              "      <td>442695</td>\n",
              "      <td>25211.0</td>\n",
              "      <td>18</td>\n",
              "    </tr>\n",
              "    <tr>\n",
              "      <th>893183</th>\n",
              "      <td>2021-01-03</td>\n",
              "      <td>New York City</td>\n",
              "      <td>New York</td>\n",
              "      <td>446899</td>\n",
              "      <td>25244.0</td>\n",
              "      <td>19</td>\n",
              "    </tr>\n",
              "    <tr>\n",
              "      <th>896429</th>\n",
              "      <td>2021-01-04</td>\n",
              "      <td>New York City</td>\n",
              "      <td>New York</td>\n",
              "      <td>450658</td>\n",
              "      <td>25284.0</td>\n",
              "      <td>20</td>\n",
              "    </tr>\n",
              "    <tr>\n",
              "      <th>899674</th>\n",
              "      <td>2021-01-05</td>\n",
              "      <td>New York City</td>\n",
              "      <td>New York</td>\n",
              "      <td>455997</td>\n",
              "      <td>25309.0</td>\n",
              "      <td>21</td>\n",
              "    </tr>\n",
              "    <tr>\n",
              "      <th>902919</th>\n",
              "      <td>2021-01-06</td>\n",
              "      <td>New York City</td>\n",
              "      <td>New York</td>\n",
              "      <td>460988</td>\n",
              "      <td>25362.0</td>\n",
              "      <td>22</td>\n",
              "    </tr>\n",
              "    <tr>\n",
              "      <th>906165</th>\n",
              "      <td>2021-01-07</td>\n",
              "      <td>New York City</td>\n",
              "      <td>New York</td>\n",
              "      <td>467327</td>\n",
              "      <td>25416.0</td>\n",
              "      <td>23</td>\n",
              "    </tr>\n",
              "    <tr>\n",
              "      <th>909410</th>\n",
              "      <td>2021-01-08</td>\n",
              "      <td>New York City</td>\n",
              "      <td>New York</td>\n",
              "      <td>474339</td>\n",
              "      <td>25453.0</td>\n",
              "      <td>24</td>\n",
              "    </tr>\n",
              "    <tr>\n",
              "      <th>912655</th>\n",
              "      <td>2021-01-09</td>\n",
              "      <td>New York City</td>\n",
              "      <td>New York</td>\n",
              "      <td>481279</td>\n",
              "      <td>25505.0</td>\n",
              "      <td>25</td>\n",
              "    </tr>\n",
              "    <tr>\n",
              "      <th>915900</th>\n",
              "      <td>2021-01-10</td>\n",
              "      <td>New York City</td>\n",
              "      <td>New York</td>\n",
              "      <td>487551</td>\n",
              "      <td>25562.0</td>\n",
              "      <td>26</td>\n",
              "    </tr>\n",
              "    <tr>\n",
              "      <th>919145</th>\n",
              "      <td>2021-01-11</td>\n",
              "      <td>New York City</td>\n",
              "      <td>New York</td>\n",
              "      <td>493306</td>\n",
              "      <td>25635.0</td>\n",
              "      <td>27</td>\n",
              "    </tr>\n",
              "    <tr>\n",
              "      <th>922390</th>\n",
              "      <td>2021-01-12</td>\n",
              "      <td>New York City</td>\n",
              "      <td>New York</td>\n",
              "      <td>498877</td>\n",
              "      <td>25698.0</td>\n",
              "      <td>28</td>\n",
              "    </tr>\n",
              "    <tr>\n",
              "      <th>925636</th>\n",
              "      <td>2021-01-13</td>\n",
              "      <td>New York City</td>\n",
              "      <td>New York</td>\n",
              "      <td>504826</td>\n",
              "      <td>25741.0</td>\n",
              "      <td>29</td>\n",
              "    </tr>\n",
              "    <tr>\n",
              "      <th>928881</th>\n",
              "      <td>2021-01-14</td>\n",
              "      <td>New York City</td>\n",
              "      <td>New York</td>\n",
              "      <td>510711</td>\n",
              "      <td>25834.0</td>\n",
              "      <td>30</td>\n",
              "    </tr>\n",
              "  </tbody>\n",
              "</table>\n",
              "</div>"
            ],
            "text/plain": [
              "              date         county     state   cases   deaths  Days\n",
              "831522  2020-12-15  New York City  New York  367198  24561.0     0\n",
              "834768  2020-12-16  New York City  New York  370109  24578.0     1\n",
              "838014  2020-12-17  New York City  New York  373320  24613.0     2\n",
              "841259  2020-12-18  New York City  New York  377728  24652.0     3\n",
              "844505  2020-12-19  New York City  New York  381067  24677.0     4\n",
              "847750  2020-12-20  New York City  New York  383808  24697.0     5\n",
              "850995  2020-12-21  New York City  New York  387595  24735.0     6\n",
              "854240  2020-12-22  New York City  New York  391634  24768.0     7\n",
              "857485  2020-12-23  New York City  New York  395810  24790.0     8\n",
              "860730  2020-12-24  New York City  New York  401251  24842.0     9\n",
              "863975  2020-12-25  New York City  New York  405857  24889.0    10\n",
              "867220  2020-12-26  New York City  New York  410048  24931.0    11\n",
              "870465  2020-12-27  New York City  New York  413472  24973.0    12\n",
              "873710  2020-12-28  New York City  New York  416922  25008.0    13\n",
              "876955  2020-12-29  New York City  New York  422074  25055.0    14\n",
              "880200  2020-12-30  New York City  New York  426279  25099.0    15\n",
              "883445  2020-12-31  New York City  New York  430863  25144.0    16\n",
              "886690  2021-01-01  New York City  New York  436692  25186.0    17\n",
              "889937  2021-01-02  New York City  New York  442695  25211.0    18\n",
              "893183  2021-01-03  New York City  New York  446899  25244.0    19\n",
              "896429  2021-01-04  New York City  New York  450658  25284.0    20\n",
              "899674  2021-01-05  New York City  New York  455997  25309.0    21\n",
              "902919  2021-01-06  New York City  New York  460988  25362.0    22\n",
              "906165  2021-01-07  New York City  New York  467327  25416.0    23\n",
              "909410  2021-01-08  New York City  New York  474339  25453.0    24\n",
              "912655  2021-01-09  New York City  New York  481279  25505.0    25\n",
              "915900  2021-01-10  New York City  New York  487551  25562.0    26\n",
              "919145  2021-01-11  New York City  New York  493306  25635.0    27\n",
              "922390  2021-01-12  New York City  New York  498877  25698.0    28\n",
              "925636  2021-01-13  New York City  New York  504826  25741.0    29\n",
              "928881  2021-01-14  New York City  New York  510711  25834.0    30"
            ]
          },
          "metadata": {
            "tags": []
          },
          "execution_count": 71
        }
      ]
    },
    {
      "cell_type": "code",
      "metadata": {
        "colab": {
          "base_uri": "https://localhost:8080/",
          "height": 458
        },
        "id": "dmhMxpb51Y6y",
        "outputId": "7de19faf-f7fb-4950-d9cb-3d6bb27bfdc8"
      },
      "source": [
        "#This tells me the number of death each day\r\n",
        "sns.jointplot(x='Days',y='deaths',data=df3)"
      ],
      "execution_count": null,
      "outputs": [
        {
          "output_type": "execute_result",
          "data": {
            "text/plain": [
              "<seaborn.axisgrid.JointGrid at 0x7fc1b1ea3d68>"
            ]
          },
          "metadata": {
            "tags": []
          },
          "execution_count": 72
        },
        {
          "output_type": "display_data",
          "data": {
            "image/png": "[encoded data removed]",
            "text/plain": [
              "<Figure size 432x432 with 3 Axes>"
            ]
          },
          "metadata": {
            "tags": [],
            "needs_background": "light"
          }
        }
      ]
    },
    {
      "cell_type": "code",
      "metadata": {
        "colab": {
          "base_uri": "https://localhost:8080/",
          "height": 458
        },
        "id": "exQOWIYo2I5t",
        "outputId": "ff1c3487-c3cb-4aa6-eb09-3e0dd0a73775"
      },
      "source": [
        "##This tells me the number of cases each day\r\n",
        "sns.jointplot(x='Days',y='cases',data=df3)"
      ],
      "execution_count": null,
      "outputs": [
        {
          "output_type": "execute_result",
          "data": {
            "text/plain": [
              "<seaborn.axisgrid.JointGrid at 0x7fc1b1db3978>"
            ]
          },
          "metadata": {
            "tags": []
          },
          "execution_count": 73
        },
        {
          "output_type": "display_data",
          "data": {
            "image/png": "[encoded data removed]",
            "text/plain": [
              "<Figure size 432x432 with 3 Axes>"
            ]
          },
          "metadata": {
            "tags": [],
            "needs_background": "light"
          }
        }
      ]
    },
    {
      "cell_type": "code",
      "metadata": {
        "colab": {
          "base_uri": "https://localhost:8080/"
        },
        "id": "qsk7XTpA2Rb1",
        "outputId": "33be301f-560a-452e-85f7-530a3d3ca033"
      },
      "source": [
        "#This will give me the number of cases till 2021-1-14\r\n",
        "df.groupby(['state'])['cases'].max()"
      ],
      "execution_count": null,
      "outputs": [
        {
          "output_type": "execute_result",
          "data": {
            "text/plain": [
              "state\n",
              "Alabama                      60842\n",
              "Alaska                       24319\n",
              "Arizona                     406226\n",
              "Arkansas                     29421\n",
              "California                  975693\n",
              "Colorado                     52624\n",
              "Connecticut                  65226\n",
              "Delaware                     38955\n",
              "District of Columbia         32820\n",
              "Florida                     336748\n",
              "Georgia                      69784\n",
              "Guam                          8426\n",
              "Hawaii                       19727\n",
              "Idaho                        41702\n",
              "Illinois                    426658\n",
              "Indiana                      80078\n",
              "Iowa                         44945\n",
              "Kansas                       45337\n",
              "Kentucky                     59780\n",
              "Louisiana                    36677\n",
              "Maine                         9436\n",
              "Maryland                     61558\n",
              "Massachusetts                89999\n",
              "Michigan                     91526\n",
              "Minnesota                    91859\n",
              "Mississippi                  16717\n",
              "Missouri                     77057\n",
              "Montana                      14617\n",
              "Nebraska                     57813\n",
              "Nevada                      196134\n",
              "New Hampshire                21665\n",
              "New Jersey                   59102\n",
              "New Mexico                   45614\n",
              "New York                    510711\n",
              "North Carolina               74587\n",
              "North Dakota                 20528\n",
              "Northern Mariana Islands       126\n",
              "Ohio                         95508\n",
              "Oklahoma                     67165\n",
              "Oregon                       27890\n",
              "Pennsylvania                102168\n",
              "Puerto Rico                  16310\n",
              "Rhode Island                 67526\n",
              "South Carolina               46933\n",
              "South Dakota                 26189\n",
              "Tennessee                    77795\n",
              "Texas                       274899\n",
              "Utah                        120091\n",
              "Vermont                       3373\n",
              "Virgin Islands                1096\n",
              "Virginia                     51334\n",
              "Washington                   71648\n",
              "West Virginia                10008\n",
              "Wisconsin                    98299\n",
              "Wyoming                       7671\n",
              "Name: cases, dtype: int64"
            ]
          },
          "metadata": {
            "tags": []
          },
          "execution_count": 74
        }
      ]
    },
    {
      "cell_type": "code",
      "metadata": {
        "colab": {
          "base_uri": "https://localhost:8080/"
        },
        "id": "T1PYR8Gc3jN5",
        "outputId": "82911415-5f02-4611-f12b-52ffad21fc17"
      },
      "source": [
        "##This will give me the number deaths still 2021-1-14\r\n",
        "df.groupby(['state'])['deaths'].max()"
      ],
      "execution_count": null,
      "outputs": [
        {
          "output_type": "execute_result",
          "data": {
            "text/plain": [
              "state\n",
              "Alabama                       887.0\n",
              "Alaska                        127.0\n",
              "Arizona                      6233.0\n",
              "Arkansas                      444.0\n",
              "California                  13234.0\n",
              "Colorado                      715.0\n",
              "Connecticut                  1981.0\n",
              "Delaware                      496.0\n",
              "District of Columbia          842.0\n",
              "Florida                      4500.0\n",
              "Georgia                       843.0\n",
              "Guam                          125.0\n",
              "Hawaii                        249.0\n",
              "Idaho                         387.0\n",
              "Illinois                     8889.0\n",
              "Indiana                      1345.0\n",
              "Iowa                          440.0\n",
              "Kansas                        626.0\n",
              "Kentucky                      732.0\n",
              "Louisiana                     715.0\n",
              "Maine                         117.0\n",
              "Maryland                     1211.0\n",
              "Massachusetts                2910.0\n",
              "Michigan                     3835.0\n",
              "Minnesota                    1461.0\n",
              "Mississippi                   310.0\n",
              "Missouri                     1547.0\n",
              "Montana                       171.0\n",
              "Nebraska                      617.0\n",
              "Nevada                       2762.0\n",
              "New Hampshire                 488.0\n",
              "New Jersey                   2465.0\n",
              "New Mexico                    662.0\n",
              "New York                    25834.0\n",
              "North Carolina                675.0\n",
              "North Dakota                  181.0\n",
              "Northern Mariana Islands        2.0\n",
              "Ohio                          964.0\n",
              "Oklahoma                      485.0\n",
              "Oregon                        446.0\n",
              "Pennsylvania                 2693.0\n",
              "Puerto Rico                  1679.0\n",
              "Rhode Island                 1479.0\n",
              "South Carolina                583.0\n",
              "South Dakota                  290.0\n",
              "Tennessee                    1102.0\n",
              "Texas                        3691.0\n",
              "Utah                          615.0\n",
              "Vermont                        78.0\n",
              "Virgin Islands                 15.0\n",
              "Virginia                      725.0\n",
              "Washington                   1146.0\n",
              "West Virginia                 235.0\n",
              "Wisconsin                    1030.0\n",
              "Wyoming                       103.0\n",
              "Name: deaths, dtype: float64"
            ]
          },
          "metadata": {
            "tags": []
          },
          "execution_count": 75
        }
      ]
    },
    {
      "cell_type": "code",
      "metadata": {
        "id": "FKhwOr9_5Gld"
      },
      "source": [
        "df4 = df[~df['state'].isin(['Guam','District of Columbia','Pennsylvania','Georgia','Alaska','Arizona','Michigan','Washington','Nevada','Hawaii','Massachusetts','Ohio','Wisconsin','Alabama','Colorado','North Carolina','Indiana','Illinois','New Jersey','Minnesota','Virginia','Montana','Oregon','Maine','Delaware','Maryland','Utah','Missouri','Tennessee','Kentucky','Louisiana','Connecticut','Wyoming','South Carolina','Nebraska','Mississippi','Kansas','Arkansas','New Mexico','Iowa','Idaho','Vermont','North Dakota','Rhode Island','New Hampshire','West Virginia','South Dakota','Oklahoma','Puerto Rico','Northern Mariana Islands','Virgin Islands'])]"
      ],
      "execution_count": null,
      "outputs": []
    },
    {
      "cell_type": "code",
      "metadata": {
        "colab": {
          "base_uri": "https://localhost:8080/",
          "height": 419
        },
        "id": "1DSHfXaC9VTg",
        "outputId": "7138ca26-66ed-4784-aea2-bd9c75dcadcf"
      },
      "source": [
        "df4"
      ],
      "execution_count": null,
      "outputs": [
        {
          "output_type": "execute_result",
          "data": {
            "text/html": [
              "<div>\n",
              "<style scoped>\n",
              "    .dataframe tbody tr th:only-of-type {\n",
              "        vertical-align: middle;\n",
              "    }\n",
              "\n",
              "    .dataframe tbody tr th {\n",
              "        vertical-align: top;\n",
              "    }\n",
              "\n",
              "    .dataframe thead th {\n",
              "        text-align: right;\n",
              "    }\n",
              "</style>\n",
              "<table border=\"1\" class=\"dataframe\">\n",
              "  <thead>\n",
              "    <tr style=\"text-align: right;\">\n",
              "      <th></th>\n",
              "      <th>date</th>\n",
              "      <th>county</th>\n",
              "      <th>state</th>\n",
              "      <th>cases</th>\n",
              "      <th>deaths</th>\n",
              "    </tr>\n",
              "  </thead>\n",
              "  <tbody>\n",
              "    <tr>\n",
              "      <th>5</th>\n",
              "      <td>2020-01-25</td>\n",
              "      <td>Orange</td>\n",
              "      <td>California</td>\n",
              "      <td>1</td>\n",
              "      <td>0.0</td>\n",
              "    </tr>\n",
              "    <tr>\n",
              "      <th>9</th>\n",
              "      <td>2020-01-26</td>\n",
              "      <td>Los Angeles</td>\n",
              "      <td>California</td>\n",
              "      <td>1</td>\n",
              "      <td>0.0</td>\n",
              "    </tr>\n",
              "    <tr>\n",
              "      <th>10</th>\n",
              "      <td>2020-01-26</td>\n",
              "      <td>Orange</td>\n",
              "      <td>California</td>\n",
              "      <td>1</td>\n",
              "      <td>0.0</td>\n",
              "    </tr>\n",
              "    <tr>\n",
              "      <th>14</th>\n",
              "      <td>2020-01-27</td>\n",
              "      <td>Los Angeles</td>\n",
              "      <td>California</td>\n",
              "      <td>1</td>\n",
              "      <td>0.0</td>\n",
              "    </tr>\n",
              "    <tr>\n",
              "      <th>15</th>\n",
              "      <td>2020-01-27</td>\n",
              "      <td>Orange</td>\n",
              "      <td>California</td>\n",
              "      <td>1</td>\n",
              "      <td>0.0</td>\n",
              "    </tr>\n",
              "    <tr>\n",
              "      <th>...</th>\n",
              "      <td>...</td>\n",
              "      <td>...</td>\n",
              "      <td>...</td>\n",
              "      <td>...</td>\n",
              "      <td>...</td>\n",
              "    </tr>\n",
              "    <tr>\n",
              "      <th>929878</th>\n",
              "      <td>2021-01-14</td>\n",
              "      <td>Wood</td>\n",
              "      <td>Texas</td>\n",
              "      <td>2388</td>\n",
              "      <td>83.0</td>\n",
              "    </tr>\n",
              "    <tr>\n",
              "      <th>929879</th>\n",
              "      <td>2021-01-14</td>\n",
              "      <td>Yoakum</td>\n",
              "      <td>Texas</td>\n",
              "      <td>801</td>\n",
              "      <td>23.0</td>\n",
              "    </tr>\n",
              "    <tr>\n",
              "      <th>929880</th>\n",
              "      <td>2021-01-14</td>\n",
              "      <td>Young</td>\n",
              "      <td>Texas</td>\n",
              "      <td>1637</td>\n",
              "      <td>31.0</td>\n",
              "    </tr>\n",
              "    <tr>\n",
              "      <th>929881</th>\n",
              "      <td>2021-01-14</td>\n",
              "      <td>Zapata</td>\n",
              "      <td>Texas</td>\n",
              "      <td>1270</td>\n",
              "      <td>18.0</td>\n",
              "    </tr>\n",
              "    <tr>\n",
              "      <th>929882</th>\n",
              "      <td>2021-01-14</td>\n",
              "      <td>Zavala</td>\n",
              "      <td>Texas</td>\n",
              "      <td>1233</td>\n",
              "      <td>28.0</td>\n",
              "    </tr>\n",
              "  </tbody>\n",
              "</table>\n",
              "<p>126241 rows × 5 columns</p>\n",
              "</div>"
            ],
            "text/plain": [
              "              date       county       state  cases  deaths\n",
              "5       2020-01-25       Orange  California      1     0.0\n",
              "9       2020-01-26  Los Angeles  California      1     0.0\n",
              "10      2020-01-26       Orange  California      1     0.0\n",
              "14      2020-01-27  Los Angeles  California      1     0.0\n",
              "15      2020-01-27       Orange  California      1     0.0\n",
              "...            ...          ...         ...    ...     ...\n",
              "929878  2021-01-14         Wood       Texas   2388    83.0\n",
              "929879  2021-01-14       Yoakum       Texas    801    23.0\n",
              "929880  2021-01-14        Young       Texas   1637    31.0\n",
              "929881  2021-01-14       Zapata       Texas   1270    18.0\n",
              "929882  2021-01-14       Zavala       Texas   1233    28.0\n",
              "\n",
              "[126241 rows x 5 columns]"
            ]
          },
          "metadata": {
            "tags": []
          },
          "execution_count": 81
        }
      ]
    },
    {
      "cell_type": "code",
      "metadata": {
        "colab": {
          "base_uri": "https://localhost:8080/",
          "height": 296
        },
        "id": "4oKk-XI9LEX0",
        "outputId": "b4daab78-b333-496e-cc69-d92761d41e94"
      },
      "source": [
        "sns.barplot(x='state',y='cases',data=df4)"
      ],
      "execution_count": null,
      "outputs": [
        {
          "output_type": "execute_result",
          "data": {
            "text/plain": [
              "<matplotlib.axes._subplots.AxesSubplot at 0x7fc1b1891470>"
            ]
          },
          "metadata": {
            "tags": []
          },
          "execution_count": 96
        },
        {
          "output_type": "display_data",
          "data": {
            "image/png": "[encoded data removed]",
            "text/plain": [
              "<Figure size 432x288 with 1 Axes>"
            ]
          },
          "metadata": {
            "tags": [],
            "needs_background": "light"
          }
        }
      ]
    },
    {
      "cell_type": "code",
      "metadata": {
        "colab": {
          "base_uri": "https://localhost:8080/",
          "height": 296
        },
        "id": "0nxWoy82Lj2g",
        "outputId": "46356afd-5c8a-4c10-f0ee-94c129d3ff72"
      },
      "source": [
        "sns.barplot(x='state',y='deaths',data=df4)"
      ],
      "execution_count": null,
      "outputs": [
        {
          "output_type": "execute_result",
          "data": {
            "text/plain": [
              "<matplotlib.axes._subplots.AxesSubplot at 0x7fc1b19330f0>"
            ]
          },
          "metadata": {
            "tags": []
          },
          "execution_count": 92
        },
        {
          "output_type": "display_data",
          "data": {
            "image/png": "[encoded data removed]",
            "text/plain": [
              "<Figure size 432x288 with 1 Axes>"
            ]
          },
          "metadata": {
            "tags": [],
            "needs_background": "light"
          }
        }
      ]
    },
    {
      "cell_type": "code",
      "metadata": {
        "id": "gm7c8Q2qMNcA"
      },
      "source": [
        "##From the analysis of these data, I have concluded that in New york City the cases and deaths due to Covid-19 have been increasing in the last 30 days.\r\n",
        "##From the analysis of these data, I have also concluded that the highest number of cases among California,Texas,Florida and New York occurred in California, but the hishest number of deaths ocurred in New York"
      ],
      "execution_count": null,
      "outputs": []
    }
  ]
}