{
  "nbformat": 4,
  "nbformat_minor": 0,
  "metadata": {
    "colab": {
      "name": "Untitled9.ipynb",
      "provenance": [],
      "authorship_tag": "ABX9TyNAbTF8IoUnjh7gonzIDYHA",
      "include_colab_link": true
    },
    "kernelspec": {
      "name": "python3",
      "display_name": "Python 3"
    }
  },
  "cells": [
    {
      "cell_type": "markdown",
      "metadata": {
        "id": "view-in-github",
        "colab_type": "text"
      },
      "source": [
        "<a href=\"https://colab.research.google.com/github/Abraham259/data_analytics/blob/main/MiniProject.ipynb\" target=\"_parent\"><img src=\"https://colab.research.google.com/assets/colab-badge.svg\" alt=\"Open In Colab\"/></a>"
      ]
    },
    {
      "cell_type": "code",
      "metadata": {
        "colab": {
          "base_uri": "https://localhost:8080/"
        },
        "id": "vZGGSLd373Gq",
        "outputId": "d8c25d93-c5f4-45b9-adff-2599d6420300"
      },
      "source": [
        "#The % sign calculate the remiander of a division. If the remainder is 0 when devided by 2, it means that the number is even, otherwise is odd.\r\n",
        "x = 100\r\n",
        "if x % 2 == 1:\r\n",
        "  print(\"Your number is odd\") \r\n",
        "else:\r\n",
        "  print(\"Your number is even\")"
      ],
      "execution_count": 15,
      "outputs": [
        {
          "output_type": "stream",
          "text": [
            "Your number is even\n"
          ],
          "name": "stdout"
        }
      ]
    },
    {
      "cell_type": "code",
      "metadata": {
        "colab": {
          "base_uri": "https://localhost:8080/"
        },
        "id": "miZi8y7c_CYv",
        "outputId": "69ab669c-2651-4f87-b8f7-a03d0a742e96"
      },
      "source": [
        "#This code will tell you whether your number is even or odd. But, if the number is a multiple of 4, and thefore odd, it will say it is a multiple of 4.\r\n",
        "x = 64\r\n",
        "if x % 2 == 1:\r\n",
        "  print(\"Your number is odd\")\r\n",
        "elif x % 4 == 0:\r\n",
        "  print(\"Your number is even and it is a multiple of 4\") \r\n",
        "else:\r\n",
        "  print(\"Your number is even\")"
      ],
      "execution_count": 12,
      "outputs": [
        {
          "output_type": "stream",
          "text": [
            "Your number is even and it is a multiple of 4\n"
          ],
          "name": "stdout"
        }
      ]
    },
    {
      "cell_type": "code",
      "metadata": {
        "colab": {
          "base_uri": "https://localhost:8080/"
        },
        "id": "MY0QNn--_DFb",
        "outputId": "fb4a79cd-7504-4784-8064-98ca30e1b6a5"
      },
      "source": [
        "#This function will allow the user to introduce two numbers, and tell the user whether o not the first number devide evenly the second number. If not, it will say so.\r\n",
        "def devide(x,y):\r\n",
        "  if x % y == 0:\r\n",
        "    print(\"The number you chose devide evenly the other number\")\r\n",
        "  else:\r\n",
        "    print(str(x) + \" is not divisible by \" + str(y))\r\n",
        "\r\n",
        "devide(9,2)"
      ],
      "execution_count": 13,
      "outputs": [
        {
          "output_type": "stream",
          "text": [
            "9 is not divisible by 2\n"
          ],
          "name": "stdout"
        }
      ]
    },
    {
      "cell_type": "code",
      "metadata": {
        "colab": {
          "base_uri": "https://localhost:8080/"
        },
        "id": "RG8RHqci_bV0",
        "outputId": "ab3971e2-9dc7-4cc7-dc6b-cff6f03d0a5d"
      },
      "source": [
        "#This fucntion will tell you whether yout number is even or odd by just using the formula above.\r\n",
        "def main_program_code (x):\r\n",
        "  if x % 2 == 1:\r\n",
        "    print(\"Your number is \" + str(x) + \" and it is and odd number\")\r\n",
        "  else:\r\n",
        "    print(\"Your number is \" + str(x) + \" and it is and even number\")\r\n",
        "\r\n",
        "main_program_code(21)"
      ],
      "execution_count": 10,
      "outputs": [
        {
          "output_type": "stream",
          "text": [
            "Your number is 21 and it is and odd number\n"
          ],
          "name": "stdout"
        }
      ]
    },
    {
      "cell_type": "code",
      "metadata": {
        "id": "M-kv03ky_Dmv"
      },
      "source": [
        ""
      ],
      "execution_count": 10,
      "outputs": []
    }
  ]
}